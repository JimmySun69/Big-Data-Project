{
 "cells": [
  {
   "cell_type": "code",
   "execution_count": 1,
   "metadata": {},
   "outputs": [],
   "source": [
    "import sys\n",
    "from random import random\n",
    "from operator import add"
   ]
  },
  {
   "cell_type": "code",
   "execution_count": 2,
   "metadata": {},
   "outputs": [],
   "source": [
    "from pyspark.sql import SparkSession"
   ]
  },
  {
   "cell_type": "code",
   "execution_count": 3,
   "metadata": {},
   "outputs": [],
   "source": [
    "spark = SparkSession\\\n",
    "    .builder\\\n",
    "    .appName(\"PythonVolume\")\\\n",
    "    .getOrCreate()"
   ]
  },
  {
   "cell_type": "code",
   "execution_count": 4,
   "metadata": {},
   "outputs": [],
   "source": [
    "partitions = 10\n",
    "n= 100000 * partitions"
   ]
  },
  {
   "cell_type": "code",
   "execution_count": 5,
   "metadata": {},
   "outputs": [],
   "source": [
    "def f(_):\n",
    "    x = random() * 8 - 4\n",
    "    y = (random()+1) * 8 - 11\n",
    "    z = (random()-2) * 8 + 10\n",
    "    return 1 if x**2 + (y -1)**2 + (z+2)**2 <= 16 else 0"
   ]
  },
  {
   "cell_type": "code",
   "execution_count": 6,
   "metadata": {},
   "outputs": [],
   "source": [
    "# Volume of Cube for estimation\n",
    "volCube = 8 * 8 * 8"
   ]
  },
  {
   "cell_type": "code",
   "execution_count": 7,
   "metadata": {},
   "outputs": [
    {
     "name": "stdout",
     "output_type": "stream",
     "text": [
      "Volume of Sphere is roughly 267.844608\n"
     ]
    }
   ],
   "source": [
    "count = spark.sparkContext.parallelize(range(1,n+1)).map(f).reduce(add)\n",
    "print(\"Volume of Sphere is roughly\",volCube * count / n)"
   ]
  },
  {
   "cell_type": "code",
   "execution_count": 8,
   "metadata": {},
   "outputs": [],
   "source": [
    "def f1(_):\n",
    "    x = random() * 4 - 2\n",
    "    y = random() * 4 - 2\n",
    "    return 1 if x**2 + y**2 <= 4 else 0"
   ]
  },
  {
   "cell_type": "code",
   "execution_count": 9,
   "metadata": {},
   "outputs": [],
   "source": [
    "# z is between (0,4), so height is 4\n",
    "height = len(range(0,4))"
   ]
  },
  {
   "cell_type": "code",
   "execution_count": 10,
   "metadata": {},
   "outputs": [],
   "source": [
    "# Volume of Cube for estimation\n",
    "volCube1 = 4 * 4 * height"
   ]
  },
  {
   "cell_type": "code",
   "execution_count": 11,
   "metadata": {},
   "outputs": [
    {
     "name": "stdout",
     "output_type": "stream",
     "text": [
      "Volume of Cylinder is roughly 50.23872\n"
     ]
    }
   ],
   "source": [
    "count = spark.sparkContext.parallelize(range(1,n+1)).map(f1).reduce(add)\n",
    "VolumeCylinder = volCube1 * count / n\n",
    "print(\"Volume of Cylinder is roughly\",VolumeCylinder)"
   ]
  },
  {
   "cell_type": "code",
   "execution_count": 12,
   "metadata": {},
   "outputs": [],
   "source": [
    "def f2(_):\n",
    "    x = random() * 4 - 2\n",
    "    y = random() * 4 - 2\n",
    "    z = random() * 2\n",
    "    return 1 if (x**2 + y**2 <= 4) & (x**2 + (y -1)**2 + (z+2)**2 <= 16) else 0"
   ]
  },
  {
   "cell_type": "code",
   "execution_count": 13,
   "metadata": {},
   "outputs": [],
   "source": [
    "# Volume of Cube for estimation\n",
    "volCube2 = 4 * 4 * 2"
   ]
  },
  {
   "cell_type": "code",
   "execution_count": 14,
   "metadata": {},
   "outputs": [
    {
     "name": "stdout",
     "output_type": "stream",
     "text": [
      "Volume of Interasction is roughly 19.958208\n"
     ]
    }
   ],
   "source": [
    "count = spark.sparkContext.parallelize(range(1,n+1)).map(f2).reduce(add)\n",
    "Volume1 = volCube2 * count / n\n",
    "print(\"Volume of Interasction is roughly\",Volume1)"
   ]
  },
  {
   "cell_type": "code",
   "execution_count": 19,
   "metadata": {},
   "outputs": [],
   "source": [
    "def f3(_):\n",
    "    x = random() * 8 - 4\n",
    "    y = (random()+1) * 8 - 11\n",
    "    z = random() * 10 - 6\n",
    "    return 1 if ((x**2 + y**2 <= 4 and 0 <= z <= 4)) or (x**2 + (y -1)**2 + (z+2)**2 <= 16) else 0"
   ]
  },
  {
   "cell_type": "code",
   "execution_count": 20,
   "metadata": {},
   "outputs": [],
   "source": [
    "volCube3 = 8 * 8 * 10"
   ]
  },
  {
   "cell_type": "code",
   "execution_count": 21,
   "metadata": {},
   "outputs": [
    {
     "name": "stdout",
     "output_type": "stream",
     "text": [
      "Volume of Union is roughly 298.27648\n"
     ]
    }
   ],
   "source": [
    "count = spark.sparkContext.parallelize(range(1,n+1)).map(f3).reduce(add)\n",
    "Volume2 = volCube3 * count / n\n",
    "print(\"Volume of Union is roughly\",Volume2)"
   ]
  },
  {
   "cell_type": "code",
   "execution_count": null,
   "metadata": {},
   "outputs": [],
   "source": []
  }
 ],
 "metadata": {
  "kernelspec": {
   "display_name": "Python 3",
   "language": "python",
   "name": "python3"
  },
  "language_info": {
   "codemirror_mode": {
    "name": "ipython",
    "version": 3
   },
   "file_extension": ".py",
   "mimetype": "text/x-python",
   "name": "python",
   "nbconvert_exporter": "python",
   "pygments_lexer": "ipython3",
   "version": "3.8.3"
  }
 },
 "nbformat": 4,
 "nbformat_minor": 4
}
